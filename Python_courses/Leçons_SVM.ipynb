{
 "cells": [
  {
   "cell_type": "markdown",
   "metadata": {},
   "source": [
    "#  Explication des SVM support vecteur machine"
   ]
  },
  {
   "cell_type": "markdown",
   "metadata": {},
   "source": [
    "### Classification linéraire.\n",
    "\n",
    "X suit $R^d$ et on a deux catégories : \n",
    "$$Y = {-1;1}$$\n",
    "\n",
    "On a un jeu de données $(X_i ; Y_i) E XxY$\n",
    "\n",
    "On cherche $w \\ E \\ R^d$ et $b \\ E \\ R$ \n",
    "\n",
    "On tente de déterminer un hyer plan / séparateur linéaire.\n",
    "\n",
    "Pas d'unicité du problème signifie problème pour les calculs.\n",
    "\n",
    "### Classificateur à marge maximal.\n",
    "\n",
    "On souhaite isoler une fonction séparatrice meilleur que les autres. \n",
    "\n",
    "La marge c'est l'épaisseur maximal avant de toucher un des points (rouge ou noir) de l'échantillon. \n",
    "Il y a donc une direction et une position de marge. La marge est bien centré (le même espace de chaque côté). \n",
    "\n",
    "Il n'y a qu'un hyper plan de marge maximal !\n",
    "\n",
    "En fait on maximise la marge sous les contraintes :\n",
    "$$\n",
    "\\Max M & slc & w|x_i > +b > M\n",
    "$$\n",
    "\n",
    "Les supports vectors sont en fait les points qui sont les limites de la marge maximal. Ainsi les points au dessus du séparateur haut et en dessous du séparateur bas sont inutiles pour déterminer la marge. \n",
    "\n",
    "On accorde toutefois une marge à la marge $M(1+\\epsilon_i)$\n",
    "On pourrait donc même s'autoriser à faire basculer la marge du mauvais côté. On se détache de la rigidité de départ. On a toutefois un autre hyper paramètre $c$ qui fixera les limites de cette relaxation. \n",
    "\n",
    "On fait ça aussi car on diminue la variance. \n",
    "\n",
    "$0 < c$ tolérance aux errreurs. \n",
    "\n"
   ]
  }
 ],
 "metadata": {
  "interpreter": {
   "hash": "1bbd787d3b252b5bc24e3def9daa38c7ced62b15e0ee72365505102b332fc7ee"
  },
  "kernelspec": {
   "display_name": "Python 3.9.7 64-bit",
   "name": "python3"
  },
  "language_info": {
   "codemirror_mode": {
    "name": "ipython",
    "version": 3
   },
   "file_extension": ".py",
   "mimetype": "text/x-python",
   "name": "python",
   "nbconvert_exporter": "python",
   "pygments_lexer": "ipython3",
   "version": "3.9.7"
  },
  "orig_nbformat": 4
 },
 "nbformat": 4,
 "nbformat_minor": 2
}
