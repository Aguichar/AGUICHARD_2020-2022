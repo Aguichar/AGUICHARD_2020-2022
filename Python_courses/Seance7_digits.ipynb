{
 "cells": [
  {
   "cell_type": "markdown",
   "metadata": {},
   "source": [
    "# Objectif \n",
    "\n",
    "- Déployer la méthodologie vue pour la régression  en classification\n",
    "- Utiliser le dataset `digits` "
   ]
  },
  {
   "cell_type": "markdown",
   "metadata": {},
   "source": [
    "# Mise en place"
   ]
  },
  {
   "cell_type": "code",
   "execution_count": 1,
   "metadata": {},
   "outputs": [],
   "source": [
    "from rich import print\n",
    "from rich.table import Table\n",
    "from rich_rst import RestructuredText as RST"
   ]
  },
  {
   "cell_type": "code",
   "execution_count": 5,
   "metadata": {},
   "outputs": [],
   "source": [
    "import numpy as np\n",
    "import matplotlib.pyplot as plt"
   ]
  },
  {
   "cell_type": "code",
   "execution_count": 3,
   "metadata": {},
   "outputs": [
    {
     "ename": "ImportError",
     "evalue": "cannot import name 'load_lfw_people' from 'sklearn.datasets' (C:\\Users\\Moi\\AppData\\Local\\Programs\\Python\\Python39\\lib\\site-packages\\sklearn\\datasets\\__init__.py)",
     "output_type": "error",
     "traceback": [
      "\u001b[1;31m---------------------------------------------------------------------------\u001b[0m",
      "\u001b[1;31mImportError\u001b[0m                               Traceback (most recent call last)",
      "\u001b[1;32m~\\AppData\\Local\\Temp/ipykernel_3712/2490834397.py\u001b[0m in \u001b[0;36m<module>\u001b[1;34m\u001b[0m\n\u001b[1;32m----> 1\u001b[1;33m from sklearn.datasets import (\n\u001b[0m\u001b[0;32m      2\u001b[0m     \u001b[0mload_iris\u001b[0m\u001b[1;33m,\u001b[0m\u001b[1;33m\u001b[0m\u001b[1;33m\u001b[0m\u001b[0m\n\u001b[0;32m      3\u001b[0m     \u001b[0mload_digits\u001b[0m\u001b[1;33m,\u001b[0m\u001b[1;33m\u001b[0m\u001b[1;33m\u001b[0m\u001b[0m\n\u001b[0;32m      4\u001b[0m     \u001b[0mfetch_lfw_people\u001b[0m\u001b[1;33m,\u001b[0m\u001b[1;33m\u001b[0m\u001b[1;33m\u001b[0m\u001b[0m\n\u001b[0;32m      5\u001b[0m     \u001b[0mload_lfw_people\u001b[0m\u001b[1;33m,\u001b[0m\u001b[1;33m\u001b[0m\u001b[1;33m\u001b[0m\u001b[0m\n",
      "\u001b[1;31mImportError\u001b[0m: cannot import name 'load_lfw_people' from 'sklearn.datasets' (C:\\Users\\Moi\\AppData\\Local\\Programs\\Python\\Python39\\lib\\site-packages\\sklearn\\datasets\\__init__.py)"
     ]
    }
   ],
   "source": [
    "from sklearn.datasets import (\n",
    "    load_iris, \n",
    "    load_digits,\n",
    "    fetch_lfw_people,\n",
    "    load_lfw_people,\n",
    ")\n"
   ]
  },
  {
   "cell_type": "code",
   "execution_count": 4,
   "metadata": {},
   "outputs": [],
   "source": [
    "from sklearn.dummy import DummyClassifier"
   ]
  },
  {
   "cell_type": "code",
   "execution_count": 6,
   "metadata": {},
   "outputs": [],
   "source": [
    "from sklearn.model_selection import (\n",
    "    train_test_split,\n",
    "    GridSearchCV,\n",
    "    cross_val_score,\n",
    ")"
   ]
  },
  {
   "cell_type": "code",
   "execution_count": 7,
   "metadata": {},
   "outputs": [],
   "source": [
    "from sklearn.linear_model import LogisticRegression\n",
    "from sklearn.neighbors import KNeighborsClassifier\n",
    "from sklearn.naive_bayes import GaussianNB\n",
    "from sklearn.svm import SVC\n",
    "from sklearn.ensemble import RandomForestClassifier\n",
    "from sklearn.tree import DecisionTreeClassifier\n",
    "from sklearn.neural_network import MLPClassifier"
   ]
  },
  {
   "cell_type": "code",
   "execution_count": 8,
   "metadata": {},
   "outputs": [],
   "source": [
    "from sklearn.metrics import (\n",
    "    confusion_matrix,\n",
    "    ConfusionMatrixDisplay,\n",
    ")"
   ]
  },
  {
   "cell_type": "code",
   "execution_count": 9,
   "metadata": {},
   "outputs": [],
   "source": [
    "resultats = dict()"
   ]
  },
  {
   "cell_type": "markdown",
   "metadata": {},
   "source": [
    "# Prise en main du dataset Digits"
   ]
  },
  {
   "cell_type": "code",
   "execution_count": 10,
   "metadata": {},
   "outputs": [
    {
     "data": {
      "text/plain": [
       "sklearn.utils.Bunch"
      ]
     },
     "execution_count": 10,
     "metadata": {},
     "output_type": "execute_result"
    }
   ],
   "source": [
    "dataset = load_digits()\n",
    "type(dataset)"
   ]
  },
  {
   "cell_type": "markdown",
   "metadata": {},
   "source": [
    "## Description"
   ]
  },
  {
   "cell_type": "code",
   "execution_count": 11,
   "metadata": {},
   "outputs": [
    {
     "data": {
      "text/html": [
       "<pre style=\"white-space:pre;overflow-x:auto;line-height:normal;font-family:Menlo,'DejaVu Sans Mono',consolas,'Courier New',monospace\">.. _digits_dataset:\n",
       "\n",
       "Optical recognition of handwritten digits dataset\n",
       "--------------------------------------------------\n",
       "\n",
       "**Data Set Characteristics:**\n",
       "\n",
       "    :Number of Instances: <span style=\"color: #008080; text-decoration-color: #008080; font-weight: bold\">1797</span>\n",
       "    :Number of Attributes: <span style=\"color: #008080; text-decoration-color: #008080; font-weight: bold\">64</span>\n",
       "    :Attribute Information: 8x8 image of integer pixels in the range <span style=\"color: #008080; text-decoration-color: #008080; font-weight: bold\">0</span>..<span style=\"color: #008080; text-decoration-color: #008080; font-weight: bold\">16</span>.\n",
       "    :Missing Attribute Values: <span style=\"color: #800080; text-decoration-color: #800080; font-style: italic\">None</span>\n",
       "    :Creator: E. Alpaydin <span style=\"font-weight: bold\">(</span>alpaydin <span style=\"color: #008000; text-decoration-color: #008000\">'@'</span> boun.edu.tr<span style=\"font-weight: bold\">)</span>\n",
       "    📅 July; <span style=\"color: #008080; text-decoration-color: #008080; font-weight: bold\">1998</span>\n",
       "\n",
       "This is a copy of the test set of the UCI ML hand-written digits datasets\n",
       "<span style=\"color: #0000ff; text-decoration-color: #0000ff; text-decoration: underline\">https://archive.ics.uci.edu/ml/datasets/Optical+Recognition+of+Handwritten+Digits</span>\n",
       "\n",
       "The data set contains images of hand-written digits: <span style=\"color: #008080; text-decoration-color: #008080; font-weight: bold\">10</span> classes where\n",
       "each class refers to a digit.\n",
       "\n",
       "Preprocessing programs made available by NIST were used to extract\n",
       "normalized bitmaps of handwritten digits from a preprinted form. From a\n",
       "total of <span style=\"color: #008080; text-decoration-color: #008080; font-weight: bold\">43</span> people, <span style=\"color: #008080; text-decoration-color: #008080; font-weight: bold\">30</span> contributed to the training set and different <span style=\"color: #008080; text-decoration-color: #008080; font-weight: bold\">13</span>\n",
       "to the test set. 32x32 bitmaps are divided into nonoverlapping blocks of\n",
       "4x4 and the number of on pixels are counted in each block. This generates\n",
       "an input matrix of 8x8 where each element is an integer in the range\n",
       "<span style=\"color: #008080; text-decoration-color: #008080; font-weight: bold\">0</span>..<span style=\"color: #008080; text-decoration-color: #008080; font-weight: bold\">16</span>. This reduces dimensionality and gives invariance to small\n",
       "distortions.\n",
       "\n",
       "For info on NIST preprocessing routines, see M. D. Garris, J. L. Blue, G.\n",
       "T. Candela, D. L. Dimmick, J. Geist, P. J. Grother, S. A. Janet, and C.\n",
       "L. Wilson, NIST Form-Based Handprint Recognition System, NISTIR <span style=\"color: #008080; text-decoration-color: #008080; font-weight: bold\">5469</span>,\n",
       "<span style=\"color: #008080; text-decoration-color: #008080; font-weight: bold\">1994</span>.\n",
       "\n",
       ".. topic:: References\n",
       "\n",
       "  - C. Kaynak <span style=\"font-weight: bold\">(</span><span style=\"color: #008080; text-decoration-color: #008080; font-weight: bold\">1995</span><span style=\"font-weight: bold\">)</span> Methods of Combining Multiple Classifiers and Their\n",
       "    Applications to Handwritten Digit Recognition, MSc Thesis, Institute of\n",
       "    Graduate Studies in Science and Engineering, Bogazici University.\n",
       "  - E. Alpaydin, C. Kaynak <span style=\"font-weight: bold\">(</span><span style=\"color: #008080; text-decoration-color: #008080; font-weight: bold\">1998</span><span style=\"font-weight: bold\">)</span> Cascading Classifiers, Kybernetika.\n",
       "  - Ken Tang and Ponnuthurai N. Suganthan and Xi Yao and A. Kai Qin.\n",
       "    Linear dimensionalityreduction using relevance weighted LDA. School of\n",
       "    Electrical and Electronic Engineering Nanyang Technological University.\n",
       "    <span style=\"color: #008080; text-decoration-color: #008080; font-weight: bold\">2005</span>.\n",
       "  - Claudio Gentile. A New Approximate Maximal Margin Classification\n",
       "    Algorithm. NIPS. <span style=\"color: #008080; text-decoration-color: #008080; font-weight: bold\">2000</span>.\n",
       "\n",
       "</pre>\n"
      ],
      "text/plain": [
       ".. _digits_dataset:\n",
       "\n",
       "Optical recognition of handwritten digits dataset\n",
       "--------------------------------------------------\n",
       "\n",
       "**Data Set Characteristics:**\n",
       "\n",
       "    :Number of Instances: \u001b[1;36m1797\u001b[0m\n",
       "    :Number of Attributes: \u001b[1;36m64\u001b[0m\n",
       "    :Attribute Information: 8x8 image of integer pixels in the range \u001b[1;36m0\u001b[0m..\u001b[1;36m16\u001b[0m.\n",
       "    :Missing Attribute Values: \u001b[3;35mNone\u001b[0m\n",
       "    :Creator: E. Alpaydin \u001b[1m(\u001b[0malpaydin \u001b[32m'@'\u001b[0m boun.edu.tr\u001b[1m)\u001b[0m\n",
       "    📅 July; \u001b[1;36m1998\u001b[0m\n",
       "\n",
       "This is a copy of the test set of the UCI ML hand-written digits datasets\n",
       "\u001b[4;94mhttps://archive.ics.uci.edu/ml/datasets/Optical+Recognition+of+Handwritten+Digits\u001b[0m\n",
       "\n",
       "The data set contains images of hand-written digits: \u001b[1;36m10\u001b[0m classes where\n",
       "each class refers to a digit.\n",
       "\n",
       "Preprocessing programs made available by NIST were used to extract\n",
       "normalized bitmaps of handwritten digits from a preprinted form. From a\n",
       "total of \u001b[1;36m43\u001b[0m people, \u001b[1;36m30\u001b[0m contributed to the training set and different \u001b[1;36m13\u001b[0m\n",
       "to the test set. 32x32 bitmaps are divided into nonoverlapping blocks of\n",
       "4x4 and the number of on pixels are counted in each block. This generates\n",
       "an input matrix of 8x8 where each element is an integer in the range\n",
       "\u001b[1;36m0\u001b[0m..\u001b[1;36m16\u001b[0m. This reduces dimensionality and gives invariance to small\n",
       "distortions.\n",
       "\n",
       "For info on NIST preprocessing routines, see M. D. Garris, J. L. Blue, G.\n",
       "T. Candela, D. L. Dimmick, J. Geist, P. J. Grother, S. A. Janet, and C.\n",
       "L. Wilson, NIST Form-Based Handprint Recognition System, NISTIR \u001b[1;36m5469\u001b[0m,\n",
       "\u001b[1;36m1994\u001b[0m.\n",
       "\n",
       ".. topic:: References\n",
       "\n",
       "  - C. Kaynak \u001b[1m(\u001b[0m\u001b[1;36m1995\u001b[0m\u001b[1m)\u001b[0m Methods of Combining Multiple Classifiers and Their\n",
       "    Applications to Handwritten Digit Recognition, MSc Thesis, Institute of\n",
       "    Graduate Studies in Science and Engineering, Bogazici University.\n",
       "  - E. Alpaydin, C. Kaynak \u001b[1m(\u001b[0m\u001b[1;36m1998\u001b[0m\u001b[1m)\u001b[0m Cascading Classifiers, Kybernetika.\n",
       "  - Ken Tang and Ponnuthurai N. Suganthan and Xi Yao and A. Kai Qin.\n",
       "    Linear dimensionalityreduction using relevance weighted LDA. School of\n",
       "    Electrical and Electronic Engineering Nanyang Technological University.\n",
       "    \u001b[1;36m2005\u001b[0m.\n",
       "  - Claudio Gentile. A New Approximate Maximal Margin Classification\n",
       "    Algorithm. NIPS. \u001b[1;36m2000\u001b[0m.\n",
       "\n"
      ]
     },
     "metadata": {},
     "output_type": "display_data"
    }
   ],
   "source": [
    "print(dataset.DESCR)"
   ]
  },
  {
   "cell_type": "code",
   "execution_count": 12,
   "metadata": {},
   "outputs": [
    {
     "data": {
      "text/html": [
       "<pre style=\"white-space:pre;overflow-x:auto;line-height:normal;font-family:Menlo,'DejaVu Sans Mono',consolas,'Courier New',monospace\"><span style=\"font-weight: bold\">╔═══════════════════════════════════════════════════════════════════════════════════════════╗</span>\n",
       "<span style=\"font-weight: bold\">║                     Optical recognition of handwritten digits dataset                     ║</span>\n",
       "<span style=\"font-weight: bold\">╚═══════════════════════════════════════════════════════════════════════════════════════════╝</span>\n",
       "<span style=\"font-weight: bold\">Data Set Characteristics:</span>\n",
       "\n",
       "Number of Instances1797\n",
       "\n",
       "Number of Attributes64\n",
       "\n",
       "Attribute Information8x8 image of integer pixels in the range 0..16.\n",
       "\n",
       "Missing Attribute ValuesNone\n",
       "\n",
       "Creator1. Alpaydin (alpaydin '@' boun.edu.tr)\n",
       "\n",
       "Enumerated list start value not ordinal-1: \"E\" (ordinal 5)\n",
       "\n",
       "DateJuly; 1998\n",
       "\n",
       "This is a copy of the test set of the UCI ML hand-written digits datasets\n",
       "https://archive.ics.uci.edu/ml/datasets/Optical+Recognition+of+Handwritten+Digits\n",
       "\n",
       "The data set contains images of hand-written digits: 10 classes where\n",
       "each class refers to a digit.\n",
       "\n",
       "Preprocessing programs made available by NIST were used to extract\n",
       "normalized bitmaps of handwritten digits from a preprinted form. From a\n",
       "total of 43 people, 30 contributed to the training set and different 13\n",
       "to the test set. 32x32 bitmaps are divided into nonoverlapping blocks of\n",
       "4x4 and the number of on pixels are counted in each block. This generates\n",
       "an input matrix of 8x8 where each element is an integer in the range\n",
       "0..16. This reduces dimensionality and gives invariance to small\n",
       "distortions.\n",
       "\n",
       "For info on NIST preprocessing routines, see M. D. Garris, J. L. Blue, G.\n",
       "T. Candela, D. L. Dimmick, J. Geist, P. J. Grother, S. A. Janet, and C.\n",
       "L. Wilson, NIST Form-Based Handprint Recognition System, NISTIR 5469,\n",
       "1994.\n",
       "\n",
       "<span style=\"font-weight: bold\">╔═══════════════════════════════════════════════════════════════════════════════════════════╗</span>\n",
       "<span style=\"font-weight: bold\">║                                        References                                         ║</span>\n",
       "<span style=\"font-weight: bold\">╚═══════════════════════════════════════════════════════════════════════════════════════════╝</span>\n",
       "<span style=\"color: #808000; text-decoration-color: #808000; font-weight: bold\"> • </span>C. Kaynak (1995) Methods of Combining Multiple Classifiers and Their\n",
       "Applications to Handwritten Digit Recognition, MSc Thesis, Institute of\n",
       "Graduate Studies in Science and Engineering, Bogazici University.\n",
       "<span style=\"color: #808000; text-decoration-color: #808000; font-weight: bold\"> • </span>Alpaydin, C. Kaynak (1998) Cascading Classifiers, Kybernetika.\n",
       "\n",
       "&lt;string&gt;:4: (INFO/1) Enumerated list start value not ordinal-1: \"E\" (ordinal 5)\n",
       "<span style=\"color: #808000; text-decoration-color: #808000; font-weight: bold\"> • </span>Ken Tang and Ponnuthurai N. Suganthan and Xi Yao and A. Kai Qin.\n",
       "Linear dimensionalityreduction using relevance weighted LDA. School of\n",
       "Electrical and Electronic Engineering Nanyang Technological University.\n",
       "2005.\n",
       "<span style=\"color: #808000; text-decoration-color: #808000; font-weight: bold\"> • </span>Claudio Gentile. A New Approximate Maximal Margin Classification\n",
       "Algorithm. NIPS. 2000.\n",
       "\n",
       "</pre>\n"
      ],
      "text/plain": [
       "\u001b[1m╔═══════════════════════════════════════════════════════════════════════════════════════════╗\u001b[0m\n",
       "\u001b[1m║\u001b[0m\u001b[1m \u001b[0m\u001b[1m                    \u001b[0m\u001b[1mOptical recognition of handwritten digits dataset\u001b[0m\u001b[1m                    \u001b[0m\u001b[1m \u001b[0m\u001b[1m║\u001b[0m\n",
       "\u001b[1m╚═══════════════════════════════════════════════════════════════════════════════════════════╝\u001b[0m\n",
       "\u001b[1mData Set Characteristics:\u001b[0m\n",
       "\n",
       "Number of Instances1797\n",
       "\n",
       "Number of Attributes64\n",
       "\n",
       "Attribute Information8x8 image of integer pixels in the range 0..16.\n",
       "\n",
       "Missing Attribute ValuesNone\n",
       "\n",
       "Creator1. Alpaydin (alpaydin '@' boun.edu.tr)\n",
       "\n",
       "Enumerated list start value not ordinal-1: \"E\" (ordinal 5)\n",
       "\n",
       "DateJuly; 1998\n",
       "\n",
       "This is a copy of the test set of the UCI ML hand-written digits datasets\n",
       "https://archive.ics.uci.edu/ml/datasets/Optical+Recognition+of+Handwritten+Digits\n",
       "\n",
       "The data set contains images of hand-written digits: 10 classes where\n",
       "each class refers to a digit.\n",
       "\n",
       "Preprocessing programs made available by NIST were used to extract\n",
       "normalized bitmaps of handwritten digits from a preprinted form. From a\n",
       "total of 43 people, 30 contributed to the training set and different 13\n",
       "to the test set. 32x32 bitmaps are divided into nonoverlapping blocks of\n",
       "4x4 and the number of on pixels are counted in each block. This generates\n",
       "an input matrix of 8x8 where each element is an integer in the range\n",
       "0..16. This reduces dimensionality and gives invariance to small\n",
       "distortions.\n",
       "\n",
       "For info on NIST preprocessing routines, see M. D. Garris, J. L. Blue, G.\n",
       "T. Candela, D. L. Dimmick, J. Geist, P. J. Grother, S. A. Janet, and C.\n",
       "L. Wilson, NIST Form-Based Handprint Recognition System, NISTIR 5469,\n",
       "1994.\n",
       "\n",
       "\u001b[1m╔═══════════════════════════════════════════════════════════════════════════════════════════╗\u001b[0m\n",
       "\u001b[1m║\u001b[0m\u001b[1m \u001b[0m\u001b[1m                                       \u001b[0m\u001b[1mReferences\u001b[0m\u001b[1m                                        \u001b[0m\u001b[1m \u001b[0m\u001b[1m║\u001b[0m\n",
       "\u001b[1m╚═══════════════════════════════════════════════════════════════════════════════════════════╝\u001b[0m\n",
       "\u001b[1;33m • \u001b[0mC. Kaynak (1995) Methods of Combining Multiple Classifiers and Their\n",
       "Applications to Handwritten Digit Recognition, MSc Thesis, Institute of\n",
       "Graduate Studies in Science and Engineering, Bogazici University.\n",
       "\u001b[1;33m • \u001b[0mAlpaydin, C. Kaynak (1998) Cascading Classifiers, Kybernetika.\n",
       "\n",
       "<string>:4: (INFO/1) Enumerated list start value not ordinal-1: \"E\" (ordinal 5)\n",
       "\u001b[1;33m • \u001b[0mKen Tang and Ponnuthurai N. Suganthan and Xi Yao and A. Kai Qin.\n",
       "Linear dimensionalityreduction using relevance weighted LDA. School of\n",
       "Electrical and Electronic Engineering Nanyang Technological University.\n",
       "2005.\n",
       "\u001b[1;33m • \u001b[0mClaudio Gentile. A New Approximate Maximal Margin Classification\n",
       "Algorithm. NIPS. 2000.\n",
       "\n"
      ]
     },
     "metadata": {},
     "output_type": "display_data"
    }
   ],
   "source": [
    "print(RST(dataset.DESCR))"
   ]
  },
  {
   "cell_type": "markdown",
   "metadata": {},
   "source": [
    "## Récupération des données numériques"
   ]
  },
  {
   "cell_type": "code",
   "execution_count": 19,
   "metadata": {},
   "outputs": [
    {
     "data": {
      "text/plain": [
       "(1797, 64)"
      ]
     },
     "execution_count": 19,
     "metadata": {},
     "output_type": "execute_result"
    }
   ],
   "source": [
    "X = dataset.data\n",
    "X.shape"
   ]
  },
  {
   "cell_type": "code",
   "execution_count": 16,
   "metadata": {},
   "outputs": [
    {
     "data": {
      "text/plain": [
       "array([0, 1, 2, ..., 8, 9, 8])"
      ]
     },
     "execution_count": 16,
     "metadata": {},
     "output_type": "execute_result"
    }
   ],
   "source": [
    "y = dataset.target\n",
    "y"
   ]
  },
  {
   "cell_type": "code",
   "execution_count": 20,
   "metadata": {},
   "outputs": [
    {
     "data": {
      "text/plain": [
       "<matplotlib.image.AxesImage at 0x28a3d53f370>"
      ]
     },
     "execution_count": 20,
     "metadata": {},
     "output_type": "execute_result"
    },
    {
     "data": {
      "image/png": "[encoded data removed]",
      "text/plain": [
       "<Figure size 432x288 with 1 Axes>"
      ]
     },
     "metadata": {
      "needs_background": "light"
     },
     "output_type": "display_data"
    }
   ],
   "source": [
    "plt.spy(X[0].reshape((8,8)))"
   ]
  },
  {
   "cell_type": "code",
   "execution_count": 21,
   "metadata": {},
   "outputs": [
    {
     "data": {
      "text/plain": [
       "<matplotlib.image.AxesImage at 0x28a3d5b3730>"
      ]
     },
     "execution_count": 21,
     "metadata": {},
     "output_type": "execute_result"
    },
    {
     "data": {
      "image/png": "[encoded data removed]",
      "text/plain": [
       "<Figure size 432x288 with 1 Axes>"
      ]
     },
     "metadata": {
      "needs_background": "light"
     },
     "output_type": "display_data"
    }
   ],
   "source": [
    "plt.spy(X[99].reshape((8,8)))"
   ]
  },
  {
   "cell_type": "code",
   "execution_count": 17,
   "metadata": {},
   "outputs": [],
   "source": [
    "X_tr, X_te, y_tr, y_te = train_test_split(X, y)"
   ]
  },
  {
   "cell_type": "markdown",
   "metadata": {},
   "source": [
    "## Visualisation"
   ]
  },
  {
   "cell_type": "code",
   "execution_count": 18,
   "metadata": {},
   "outputs": [
    {
     "data": {
      "image/png": "[encoded data removed]",
      "text/plain": [
       "<Figure size 1296x1080 with 9 Axes>"
      ]
     },
     "metadata": {
      "needs_background": "light"
     },
     "output_type": "display_data"
    }
   ],
   "source": [
    "fig, reps = plt.subplots(nrows=3, ncols=3, figsize=(18, 15))\n",
    "for i in range(4):\n",
    "    for j in range(4):\n",
    "        if i < j:\n",
    "            nuage = reps[i,j-1].scatter(X[:, i], X[:, j], c=y)\n",
    "            couleurs, _= nuage.legend_elements()\n",
    "            reps[i,j-1].set_xlabel(dataset.feature_names[i])\n",
    "            reps[i,j-1].set_ylabel(dataset.feature_names[j])\n",
    "            reps[i,j-1].legend(couleurs, dataset.target_names)\n",
    "\n",
    "reps[1, 0].axis(\"off\")\n",
    "reps[2, 0].axis(\"off\")\n",
    "reps[2, 1].axis(\"off\");"
   ]
  },
  {
   "cell_type": "code",
   "execution_count": 22,
   "metadata": {},
   "outputs": [
    {
     "data": {
      "image/png": "[encoded data removed]",
      "text/plain": [
       "<Figure size 1440x1440 with 16 Axes>"
      ]
     },
     "metadata": {},
     "output_type": "display_data"
    }
   ],
   "source": [
    "fig, reps = plt.subplots(nrows=4, ncols=4, figsize=(20, 20))\n",
    "fig.suptitle(\"Premières images du dataset digits\", fontsize=24)\n",
    "for i, rep in enumerate(reps.flatten()):\n",
    "    rep.spy(X[i].reshape((8,8)))\n",
    "    rep.set_xticks([])\n",
    "    rep.set_yticks([])\n",
    "    rep.set_title(f\"chiffre: {y[i]}\", fontsize=15)"
   ]
  },
  {
   "cell_type": "markdown",
   "metadata": {},
   "source": [
    "## Modèle élémentaires"
   ]
  },
  {
   "cell_type": "code",
   "execution_count": 23,
   "metadata": {},
   "outputs": [],
   "source": [
    "c = LogisticRegression()"
   ]
  },
  {
   "cell_type": "code",
   "execution_count": 24,
   "metadata": {},
   "outputs": [
    {
     "data": {
      "text/plain": [
       "{'C': 1.0,\n",
       " 'class_weight': None,\n",
       " 'dual': False,\n",
       " 'fit_intercept': True,\n",
       " 'intercept_scaling': 1,\n",
       " 'l1_ratio': None,\n",
       " 'max_iter': 100,\n",
       " 'multi_class': 'auto',\n",
       " 'n_jobs': None,\n",
       " 'penalty': 'l2',\n",
       " 'random_state': None,\n",
       " 'solver': 'lbfgs',\n",
       " 'tol': 0.0001,\n",
       " 'verbose': 0,\n",
       " 'warm_start': False}"
      ]
     },
     "execution_count": 24,
     "metadata": {},
     "output_type": "execute_result"
    }
   ],
   "source": [
    "c.get_params()"
   ]
  },
  {
   "cell_type": "code",
   "execution_count": 28,
   "metadata": {},
   "outputs": [
    {
     "name": "stderr",
     "output_type": "stream",
     "text": [
      "C:\\Users\\Moi\\AppData\\Local\\Programs\\Python\\Python39\\lib\\site-packages\\sklearn\\linear_model\\_logistic.py:814: ConvergenceWarning: lbfgs failed to converge (status=1):\n",
      "STOP: TOTAL NO. of ITERATIONS REACHED LIMIT.\n",
      "\n",
      "Increase the number of iterations (max_iter) or scale the data as shown in:\n",
      "    https://scikit-learn.org/stable/modules/preprocessing.html\n",
      "Please also refer to the documentation for alternative solver options:\n",
      "    https://scikit-learn.org/stable/modules/linear_model.html#logistic-regression\n",
      "  n_iter_i = _check_optimize_result(\n",
      "C:\\Users\\Moi\\AppData\\Local\\Programs\\Python\\Python39\\lib\\site-packages\\sklearn\\linear_model\\_logistic.py:814: ConvergenceWarning: lbfgs failed to converge (status=1):\n",
      "STOP: TOTAL NO. of ITERATIONS REACHED LIMIT.\n",
      "\n",
      "Increase the number of iterations (max_iter) or scale the data as shown in:\n",
      "    https://scikit-learn.org/stable/modules/preprocessing.html\n",
      "Please also refer to the documentation for alternative solver options:\n",
      "    https://scikit-learn.org/stable/modules/linear_model.html#logistic-regression\n",
      "  n_iter_i = _check_optimize_result(\n",
      "C:\\Users\\Moi\\AppData\\Local\\Programs\\Python\\Python39\\lib\\site-packages\\sklearn\\linear_model\\_logistic.py:814: ConvergenceWarning: lbfgs failed to converge (status=1):\n",
      "STOP: TOTAL NO. of ITERATIONS REACHED LIMIT.\n",
      "\n",
      "Increase the number of iterations (max_iter) or scale the data as shown in:\n",
      "    https://scikit-learn.org/stable/modules/preprocessing.html\n",
      "Please also refer to the documentation for alternative solver options:\n",
      "    https://scikit-learn.org/stable/modules/linear_model.html#logistic-regression\n",
      "  n_iter_i = _check_optimize_result(\n",
      "C:\\Users\\Moi\\AppData\\Local\\Programs\\Python\\Python39\\lib\\site-packages\\sklearn\\linear_model\\_logistic.py:814: ConvergenceWarning: lbfgs failed to converge (status=1):\n",
      "STOP: TOTAL NO. of ITERATIONS REACHED LIMIT.\n",
      "\n",
      "Increase the number of iterations (max_iter) or scale the data as shown in:\n",
      "    https://scikit-learn.org/stable/modules/preprocessing.html\n",
      "Please also refer to the documentation for alternative solver options:\n",
      "    https://scikit-learn.org/stable/modules/linear_model.html#logistic-regression\n",
      "  n_iter_i = _check_optimize_result(\n",
      "C:\\Users\\Moi\\AppData\\Local\\Programs\\Python\\Python39\\lib\\site-packages\\sklearn\\linear_model\\_logistic.py:814: ConvergenceWarning: lbfgs failed to converge (status=1):\n",
      "STOP: TOTAL NO. of ITERATIONS REACHED LIMIT.\n",
      "\n",
      "Increase the number of iterations (max_iter) or scale the data as shown in:\n",
      "    https://scikit-learn.org/stable/modules/preprocessing.html\n",
      "Please also refer to the documentation for alternative solver options:\n",
      "    https://scikit-learn.org/stable/modules/linear_model.html#logistic-regression\n",
      "  n_iter_i = _check_optimize_result(\n",
      "C:\\Users\\Moi\\AppData\\Local\\Programs\\Python\\Python39\\lib\\site-packages\\sklearn\\linear_model\\_logistic.py:814: ConvergenceWarning: lbfgs failed to converge (status=1):\n",
      "STOP: TOTAL NO. of ITERATIONS REACHED LIMIT.\n",
      "\n",
      "Increase the number of iterations (max_iter) or scale the data as shown in:\n",
      "    https://scikit-learn.org/stable/modules/preprocessing.html\n",
      "Please also refer to the documentation for alternative solver options:\n",
      "    https://scikit-learn.org/stable/modules/linear_model.html#logistic-regression\n",
      "  n_iter_i = _check_optimize_result(\n",
      "C:\\Users\\Moi\\AppData\\Local\\Programs\\Python\\Python39\\lib\\site-packages\\sklearn\\linear_model\\_logistic.py:814: ConvergenceWarning: lbfgs failed to converge (status=1):\n",
      "STOP: TOTAL NO. of ITERATIONS REACHED LIMIT.\n",
      "\n",
      "Increase the number of iterations (max_iter) or scale the data as shown in:\n",
      "    https://scikit-learn.org/stable/modules/preprocessing.html\n",
      "Please also refer to the documentation for alternative solver options:\n",
      "    https://scikit-learn.org/stable/modules/linear_model.html#logistic-regression\n",
      "  n_iter_i = _check_optimize_result(\n",
      "C:\\Users\\Moi\\AppData\\Local\\Programs\\Python\\Python39\\lib\\site-packages\\sklearn\\linear_model\\_logistic.py:814: ConvergenceWarning: lbfgs failed to converge (status=1):\n",
      "STOP: TOTAL NO. of ITERATIONS REACHED LIMIT.\n",
      "\n",
      "Increase the number of iterations (max_iter) or scale the data as shown in:\n",
      "    https://scikit-learn.org/stable/modules/preprocessing.html\n",
      "Please also refer to the documentation for alternative solver options:\n",
      "    https://scikit-learn.org/stable/modules/linear_model.html#logistic-regression\n",
      "  n_iter_i = _check_optimize_result(\n",
      "C:\\Users\\Moi\\AppData\\Local\\Programs\\Python\\Python39\\lib\\site-packages\\sklearn\\linear_model\\_logistic.py:814: ConvergenceWarning: lbfgs failed to converge (status=1):\n",
      "STOP: TOTAL NO. of ITERATIONS REACHED LIMIT.\n",
      "\n",
      "Increase the number of iterations (max_iter) or scale the data as shown in:\n",
      "    https://scikit-learn.org/stable/modules/preprocessing.html\n",
      "Please also refer to the documentation for alternative solver options:\n",
      "    https://scikit-learn.org/stable/modules/linear_model.html#logistic-regression\n",
      "  n_iter_i = _check_optimize_result(\n",
      "C:\\Users\\Moi\\AppData\\Local\\Programs\\Python\\Python39\\lib\\site-packages\\sklearn\\linear_model\\_logistic.py:814: ConvergenceWarning: lbfgs failed to converge (status=1):\n",
      "STOP: TOTAL NO. of ITERATIONS REACHED LIMIT.\n",
      "\n",
      "Increase the number of iterations (max_iter) or scale the data as shown in:\n",
      "    https://scikit-learn.org/stable/modules/preprocessing.html\n",
      "Please also refer to the documentation for alternative solver options:\n",
      "    https://scikit-learn.org/stable/modules/linear_model.html#logistic-regression\n",
      "  n_iter_i = _check_optimize_result(\n",
      "C:\\Users\\Moi\\AppData\\Local\\Programs\\Python\\Python39\\lib\\site-packages\\sklearn\\linear_model\\_logistic.py:814: ConvergenceWarning: lbfgs failed to converge (status=1):\n",
      "STOP: TOTAL NO. of ITERATIONS REACHED LIMIT.\n",
      "\n",
      "Increase the number of iterations (max_iter) or scale the data as shown in:\n",
      "    https://scikit-learn.org/stable/modules/preprocessing.html\n",
      "Please also refer to the documentation for alternative solver options:\n",
      "    https://scikit-learn.org/stable/modules/linear_model.html#logistic-regression\n",
      "  n_iter_i = _check_optimize_result(\n",
      "C:\\Users\\Moi\\AppData\\Local\\Programs\\Python\\Python39\\lib\\site-packages\\sklearn\\linear_model\\_logistic.py:814: ConvergenceWarning: lbfgs failed to converge (status=1):\n",
      "STOP: TOTAL NO. of ITERATIONS REACHED LIMIT.\n",
      "\n",
      "Increase the number of iterations (max_iter) or scale the data as shown in:\n",
      "    https://scikit-learn.org/stable/modules/preprocessing.html\n",
      "Please also refer to the documentation for alternative solver options:\n",
      "    https://scikit-learn.org/stable/modules/linear_model.html#logistic-regression\n",
      "  n_iter_i = _check_optimize_result(\n",
      "C:\\Users\\Moi\\AppData\\Local\\Programs\\Python\\Python39\\lib\\site-packages\\sklearn\\linear_model\\_logistic.py:814: ConvergenceWarning: lbfgs failed to converge (status=1):\n",
      "STOP: TOTAL NO. of ITERATIONS REACHED LIMIT.\n",
      "\n",
      "Increase the number of iterations (max_iter) or scale the data as shown in:\n",
      "    https://scikit-learn.org/stable/modules/preprocessing.html\n",
      "Please also refer to the documentation for alternative solver options:\n",
      "    https://scikit-learn.org/stable/modules/linear_model.html#logistic-regression\n",
      "  n_iter_i = _check_optimize_result(\n",
      "C:\\Users\\Moi\\AppData\\Local\\Programs\\Python\\Python39\\lib\\site-packages\\sklearn\\linear_model\\_logistic.py:814: ConvergenceWarning: lbfgs failed to converge (status=1):\n",
      "STOP: TOTAL NO. of ITERATIONS REACHED LIMIT.\n",
      "\n",
      "Increase the number of iterations (max_iter) or scale the data as shown in:\n",
      "    https://scikit-learn.org/stable/modules/preprocessing.html\n",
      "Please also refer to the documentation for alternative solver options:\n",
      "    https://scikit-learn.org/stable/modules/linear_model.html#logistic-regression\n",
      "  n_iter_i = _check_optimize_result(\n",
      "C:\\Users\\Moi\\AppData\\Local\\Programs\\Python\\Python39\\lib\\site-packages\\sklearn\\linear_model\\_logistic.py:814: ConvergenceWarning: lbfgs failed to converge (status=1):\n",
      "STOP: TOTAL NO. of ITERATIONS REACHED LIMIT.\n",
      "\n",
      "Increase the number of iterations (max_iter) or scale the data as shown in:\n",
      "    https://scikit-learn.org/stable/modules/preprocessing.html\n",
      "Please also refer to the documentation for alternative solver options:\n",
      "    https://scikit-learn.org/stable/modules/linear_model.html#logistic-regression\n",
      "  n_iter_i = _check_optimize_result(\n",
      "C:\\Users\\Moi\\AppData\\Local\\Programs\\Python\\Python39\\lib\\site-packages\\sklearn\\linear_model\\_logistic.py:814: ConvergenceWarning: lbfgs failed to converge (status=1):\n",
      "STOP: TOTAL NO. of ITERATIONS REACHED LIMIT.\n",
      "\n",
      "Increase the number of iterations (max_iter) or scale the data as shown in:\n",
      "    https://scikit-learn.org/stable/modules/preprocessing.html\n",
      "Please also refer to the documentation for alternative solver options:\n",
      "    https://scikit-learn.org/stable/modules/linear_model.html#logistic-regression\n",
      "  n_iter_i = _check_optimize_result(\n",
      "C:\\Users\\Moi\\AppData\\Local\\Programs\\Python\\Python39\\lib\\site-packages\\sklearn\\linear_model\\_logistic.py:814: ConvergenceWarning: lbfgs failed to converge (status=1):\n",
      "STOP: TOTAL NO. of ITERATIONS REACHED LIMIT.\n",
      "\n",
      "Increase the number of iterations (max_iter) or scale the data as shown in:\n",
      "    https://scikit-learn.org/stable/modules/preprocessing.html\n",
      "Please also refer to the documentation for alternative solver options:\n",
      "    https://scikit-learn.org/stable/modules/linear_model.html#logistic-regression\n",
      "  n_iter_i = _check_optimize_result(\n",
      "C:\\Users\\Moi\\AppData\\Local\\Programs\\Python\\Python39\\lib\\site-packages\\sklearn\\linear_model\\_logistic.py:814: ConvergenceWarning: lbfgs failed to converge (status=1):\n",
      "STOP: TOTAL NO. of ITERATIONS REACHED LIMIT.\n",
      "\n",
      "Increase the number of iterations (max_iter) or scale the data as shown in:\n",
      "    https://scikit-learn.org/stable/modules/preprocessing.html\n",
      "Please also refer to the documentation for alternative solver options:\n",
      "    https://scikit-learn.org/stable/modules/linear_model.html#logistic-regression\n",
      "  n_iter_i = _check_optimize_result(\n",
      "C:\\Users\\Moi\\AppData\\Local\\Programs\\Python\\Python39\\lib\\site-packages\\sklearn\\linear_model\\_logistic.py:814: ConvergenceWarning: lbfgs failed to converge (status=1):\n",
      "STOP: TOTAL NO. of ITERATIONS REACHED LIMIT.\n",
      "\n",
      "Increase the number of iterations (max_iter) or scale the data as shown in:\n",
      "    https://scikit-learn.org/stable/modules/preprocessing.html\n",
      "Please also refer to the documentation for alternative solver options:\n",
      "    https://scikit-learn.org/stable/modules/linear_model.html#logistic-regression\n",
      "  n_iter_i = _check_optimize_result(\n",
      "C:\\Users\\Moi\\AppData\\Local\\Programs\\Python\\Python39\\lib\\site-packages\\sklearn\\linear_model\\_logistic.py:814: ConvergenceWarning: lbfgs failed to converge (status=1):\n",
      "STOP: TOTAL NO. of ITERATIONS REACHED LIMIT.\n",
      "\n",
      "Increase the number of iterations (max_iter) or scale the data as shown in:\n",
      "    https://scikit-learn.org/stable/modules/preprocessing.html\n",
      "Please also refer to the documentation for alternative solver options:\n",
      "    https://scikit-learn.org/stable/modules/linear_model.html#logistic-regression\n",
      "  n_iter_i = _check_optimize_result(\n"
     ]
    },
    {
     "name": "stdout",
     "output_type": "stream",
     "text": [
      "Wall time: 26.6 s\n"
     ]
    },
    {
     "name": "stderr",
     "output_type": "stream",
     "text": [
      "C:\\Users\\Moi\\AppData\\Local\\Programs\\Python\\Python39\\lib\\site-packages\\sklearn\\linear_model\\_logistic.py:814: ConvergenceWarning: lbfgs failed to converge (status=1):\n",
      "STOP: TOTAL NO. of ITERATIONS REACHED LIMIT.\n",
      "\n",
      "Increase the number of iterations (max_iter) or scale the data as shown in:\n",
      "    https://scikit-learn.org/stable/modules/preprocessing.html\n",
      "Please also refer to the documentation for alternative solver options:\n",
      "    https://scikit-learn.org/stable/modules/linear_model.html#logistic-regression\n",
      "  n_iter_i = _check_optimize_result(\n"
     ]
    },
    {
     "data": {
      "text/plain": [
       "GridSearchCV(estimator=LogisticRegression(),\n",
       "             param_grid={'C': [0.1, 1.0, 10, 100], 'max_iter': [500]})"
      ]
     },
     "execution_count": 28,
     "metadata": {},
     "output_type": "execute_result"
    }
   ],
   "source": [
    "%%time\n",
    "g = GridSearchCV(\n",
    "    estimator = c,\n",
    "    param_grid= {\n",
    "        \"C\" : [0.1, 1., 10, 100],\n",
    "        \"max_iter\": [500,]\n",
    "    }\n",
    ")\n",
    "g.fit(X_tr, y_tr)"
   ]
  },
  {
   "cell_type": "code",
   "execution_count": 29,
   "metadata": {},
   "outputs": [
    {
     "data": {
      "text/plain": [
       "{'algorithm': 'auto',\n",
       " 'leaf_size': 30,\n",
       " 'metric': 'minkowski',\n",
       " 'metric_params': None,\n",
       " 'n_jobs': None,\n",
       " 'n_neighbors': 5,\n",
       " 'p': 2,\n",
       " 'weights': 'uniform'}"
      ]
     },
     "execution_count": 29,
     "metadata": {},
     "output_type": "execute_result"
    }
   ],
   "source": [
    "c = KNeighborsClassifier()\n",
    "c.get_params()"
   ]
  },
  {
   "cell_type": "code",
   "execution_count": 30,
   "metadata": {},
   "outputs": [
    {
     "name": "stdout",
     "output_type": "stream",
     "text": [
      "Wall time: 681 ms\n"
     ]
    },
    {
     "data": {
      "text/plain": [
       "GridSearchCV(estimator=KNeighborsClassifier(),\n",
       "             param_grid={'n_neighbors': [3, 5, 7, 9]})"
      ]
     },
     "execution_count": 30,
     "metadata": {},
     "output_type": "execute_result"
    }
   ],
   "source": [
    "%%time\n",
    "g = GridSearchCV(\n",
    "    estimator=c,\n",
    "    param_grid={\n",
    "        \"n_neighbors\": [3, 5, 7, 9],\n",
    "    }\n",
    ")\n",
    "g.fit(X_tr, y_tr)"
   ]
  },
  {
   "cell_type": "code",
   "execution_count": 32,
   "metadata": {},
   "outputs": [
    {
     "data": {
      "text/plain": [
       "0.9821781632934048"
      ]
     },
     "execution_count": 32,
     "metadata": {},
     "output_type": "execute_result"
    }
   ],
   "source": [
    "resultats[g] = g.best_score_\n",
    "resultats[g]"
   ]
  },
  {
   "cell_type": "code",
   "execution_count": 33,
   "metadata": {},
   "outputs": [
    {
     "data": {
      "text/plain": [
       "{'priors': None, 'var_smoothing': 1e-09}"
      ]
     },
     "execution_count": 33,
     "metadata": {},
     "output_type": "execute_result"
    }
   ],
   "source": [
    "c = GaussianNB()\n",
    "c.get_params()"
   ]
  },
  {
   "cell_type": "code",
   "execution_count": 34,
   "metadata": {},
   "outputs": [
    {
     "name": "stdout",
     "output_type": "stream",
     "text": [
      "Wall time: 46.8 ms\n"
     ]
    }
   ],
   "source": [
    "%%time\n",
    "score = cross_val_score(c, X_tr, y_tr)\n",
    "resultats[c] = np.mean(score)"
   ]
  },
  {
   "cell_type": "code",
   "execution_count": 35,
   "metadata": {},
   "outputs": [
    {
     "data": {
      "text/plain": [
       "{'ccp_alpha': 0.0,\n",
       " 'class_weight': None,\n",
       " 'criterion': 'gini',\n",
       " 'max_depth': None,\n",
       " 'max_features': None,\n",
       " 'max_leaf_nodes': None,\n",
       " 'min_impurity_decrease': 0.0,\n",
       " 'min_samples_leaf': 1,\n",
       " 'min_samples_split': 2,\n",
       " 'min_weight_fraction_leaf': 0.0,\n",
       " 'random_state': None,\n",
       " 'splitter': 'best'}"
      ]
     },
     "execution_count": 35,
     "metadata": {},
     "output_type": "execute_result"
    }
   ],
   "source": [
    "c = DecisionTreeClassifier()\n",
    "c.get_params()"
   ]
  },
  {
   "cell_type": "code",
   "execution_count": 36,
   "metadata": {},
   "outputs": [
    {
     "name": "stdout",
     "output_type": "stream",
     "text": [
      "Wall time: 1 ms\n"
     ]
    }
   ],
   "source": [
    "%time\n",
    "score = cross_val_score(c, X_tr, y_tr)\n",
    "resultats[c] = np.mean(score)"
   ]
  },
  {
   "cell_type": "code",
   "execution_count": 37,
   "metadata": {},
   "outputs": [
    {
     "data": {
      "text/html": [
       "<pre style=\"white-space:pre;overflow-x:auto;line-height:normal;font-family:Menlo,'DejaVu Sans Mono',consolas,'Courier New',monospace\">┏━━━━━━━━━━━━━━━━━━━━┳━━━━━━━━━━━━━━━━━━━━━━━━┳━━━━━━━━━━━━━━━━━━━━━━━━━━━━━━┓\n",
       "┃<span style=\"font-weight: bold\"> Score              </span>┃<span style=\"font-weight: bold\"> Modele                 </span>┃<span style=\"font-weight: bold\"> Meilleur choix de Paramètres </span>┃\n",
       "┡━━━━━━━━━━━━━━━━━━━━╇━━━━━━━━━━━━━━━━━━━━━━━━╇━━━━━━━━━━━━━━━━━━━━━━━━━━━━━━┩\n",
       "│ 0.8337216026435357 │ DecisionTreeClassifier │                              │\n",
       "│ 0.8396585433016659 │ GaussianNB             │                              │\n",
       "│ 0.9821781632934048 │ KNeighborsClassifier   │ {'n_neighbors': 3}           │\n",
       "└────────────────────┴────────────────────────┴──────────────────────────────┘\n",
       "</pre>\n"
      ],
      "text/plain": [
       "┏━━━━━━━━━━━━━━━━━━━━┳━━━━━━━━━━━━━━━━━━━━━━━━┳━━━━━━━━━━━━━━━━━━━━━━━━━━━━━━┓\n",
       "┃\u001b[1m \u001b[0m\u001b[1mScore             \u001b[0m\u001b[1m \u001b[0m┃\u001b[1m \u001b[0m\u001b[1mModele                \u001b[0m\u001b[1m \u001b[0m┃\u001b[1m \u001b[0m\u001b[1mMeilleur choix de Paramètres\u001b[0m\u001b[1m \u001b[0m┃\n",
       "┡━━━━━━━━━━━━━━━━━━━━╇━━━━━━━━━━━━━━━━━━━━━━━━╇━━━━━━━━━━━━━━━━━━━━━━━━━━━━━━┩\n",
       "│ 0.8337216026435357 │ DecisionTreeClassifier │                              │\n",
       "│ 0.8396585433016659 │ GaussianNB             │                              │\n",
       "│ 0.9821781632934048 │ KNeighborsClassifier   │ {'n_neighbors': 3}           │\n",
       "└────────────────────┴────────────────────────┴──────────────────────────────┘\n"
      ]
     },
     "metadata": {},
     "output_type": "display_data"
    }
   ],
   "source": [
    "# Résultat moins élémentaires \n",
    "resume = Table()\n",
    "resume.add_column(\"Score\")\n",
    "resume.add_column(\"Modele\")\n",
    "resume.add_column(\"Meilleur choix de Paramètres\")\n",
    "for score, modele in sorted(\n",
    "    [(score, modele) for modele, score in resultats.items()], \n",
    "    key=lambda x: x[0]\n",
    "):\n",
    "    try:\n",
    "        mod_str = str(modele.best_estimator_)\n",
    "        resume.add_row(str(score), mod_str[:mod_str.find(\"(\")], str(modele.best_params_))\n",
    "    except AttributeError:\n",
    "        mod_str = str(modele)\n",
    "        resume.add_row(str(score), mod_str[:mod_str.find(\"(\")], \"\")\n",
    "print(resume)"
   ]
  },
  {
   "cell_type": "markdown",
   "metadata": {},
   "source": [
    "## Modèles moins élémentaires"
   ]
  },
  {
   "cell_type": "code",
   "execution_count": 38,
   "metadata": {},
   "outputs": [
    {
     "data": {
      "text/plain": [
       "{'bootstrap': True,\n",
       " 'ccp_alpha': 0.0,\n",
       " 'class_weight': None,\n",
       " 'criterion': 'gini',\n",
       " 'max_depth': None,\n",
       " 'max_features': 'auto',\n",
       " 'max_leaf_nodes': None,\n",
       " 'max_samples': None,\n",
       " 'min_impurity_decrease': 0.0,\n",
       " 'min_samples_leaf': 1,\n",
       " 'min_samples_split': 2,\n",
       " 'min_weight_fraction_leaf': 0.0,\n",
       " 'n_estimators': 100,\n",
       " 'n_jobs': None,\n",
       " 'oob_score': False,\n",
       " 'random_state': None,\n",
       " 'verbose': 0,\n",
       " 'warm_start': False}"
      ]
     },
     "execution_count": 38,
     "metadata": {},
     "output_type": "execute_result"
    }
   ],
   "source": [
    "c = RandomForestClassifier()\n",
    "c.get_params()"
   ]
  },
  {
   "cell_type": "code",
   "execution_count": 39,
   "metadata": {},
   "outputs": [
    {
     "name": "stdout",
     "output_type": "stream",
     "text": [
      "Wall time: 15.1 s\n"
     ]
    },
    {
     "data": {
      "text/plain": [
       "GridSearchCV(estimator=RandomForestClassifier(),\n",
       "             param_grid={'n_estimators': [50, 100, 150, 200]})"
      ]
     },
     "execution_count": 39,
     "metadata": {},
     "output_type": "execute_result"
    }
   ],
   "source": [
    "%%time\n",
    "g = GridSearchCV(\n",
    "    estimator=c,\n",
    "    param_grid={\n",
    "        \"n_estimators\": [50, 100, 150, 200],\n",
    "    }\n",
    ")\n",
    "g.fit(X_tr, y_tr);"
   ]
  },
  {
   "cell_type": "code",
   "execution_count": 40,
   "metadata": {},
   "outputs": [],
   "source": [
    "resultats[g] = g.best_score_"
   ]
  },
  {
   "cell_type": "code",
   "execution_count": 41,
   "metadata": {},
   "outputs": [
    {
     "data": {
      "text/plain": [
       "{'activation': 'relu',\n",
       " 'alpha': 0.0001,\n",
       " 'batch_size': 'auto',\n",
       " 'beta_1': 0.9,\n",
       " 'beta_2': 0.999,\n",
       " 'early_stopping': False,\n",
       " 'epsilon': 1e-08,\n",
       " 'hidden_layer_sizes': (100,),\n",
       " 'learning_rate': 'constant',\n",
       " 'learning_rate_init': 0.001,\n",
       " 'max_fun': 15000,\n",
       " 'max_iter': 200,\n",
       " 'momentum': 0.9,\n",
       " 'n_iter_no_change': 10,\n",
       " 'nesterovs_momentum': True,\n",
       " 'power_t': 0.5,\n",
       " 'random_state': None,\n",
       " 'shuffle': True,\n",
       " 'solver': 'adam',\n",
       " 'tol': 0.0001,\n",
       " 'validation_fraction': 0.1,\n",
       " 'verbose': False,\n",
       " 'warm_start': False}"
      ]
     },
     "execution_count": 41,
     "metadata": {},
     "output_type": "execute_result"
    }
   ],
   "source": [
    "c = MLPClassifier()\n",
    "c.get_params()"
   ]
  },
  {
   "cell_type": "code",
   "execution_count": 42,
   "metadata": {},
   "outputs": [
    {
     "name": "stdout",
     "output_type": "stream",
     "text": [
      "Wall time: 41.9 s\n"
     ]
    },
    {
     "data": {
      "text/plain": [
       "GridSearchCV(estimator=MLPClassifier(),\n",
       "             param_grid={'hidden_layer_sizes': [(200,), (100, 100),\n",
       "                                                (50, 100, 50),\n",
       "                                                (25, 75, 75, 25)],\n",
       "                         'max_iter': [1000]})"
      ]
     },
     "execution_count": 42,
     "metadata": {},
     "output_type": "execute_result"
    }
   ],
   "source": [
    "%%time\n",
    "g = GridSearchCV(\n",
    "    estimator=c,\n",
    "    param_grid={\n",
    "        \"hidden_layer_sizes\": [(200, ), (100, 100), (50, 100, 50), (25, 75, 75, 25)],\n",
    "        \"max_iter\": [1000,],\n",
    "    }\n",
    ")\n",
    "g.fit(X_tr, y_tr);"
   ]
  },
  {
   "cell_type": "code",
   "execution_count": 43,
   "metadata": {},
   "outputs": [],
   "source": [
    "resultats[g] = g.best_score_"
   ]
  },
  {
   "cell_type": "code",
   "execution_count": 44,
   "metadata": {},
   "outputs": [
    {
     "data": {
      "text/plain": [
       "{'C': 1.0,\n",
       " 'break_ties': False,\n",
       " 'cache_size': 200,\n",
       " 'class_weight': None,\n",
       " 'coef0': 0.0,\n",
       " 'decision_function_shape': 'ovr',\n",
       " 'degree': 3,\n",
       " 'gamma': 'scale',\n",
       " 'kernel': 'rbf',\n",
       " 'max_iter': -1,\n",
       " 'probability': False,\n",
       " 'random_state': None,\n",
       " 'shrinking': True,\n",
       " 'tol': 0.001,\n",
       " 'verbose': False}"
      ]
     },
     "execution_count": 44,
     "metadata": {},
     "output_type": "execute_result"
    }
   ],
   "source": [
    "c = SVC()\n",
    "c.get_params()"
   ]
  },
  {
   "cell_type": "code",
   "execution_count": 45,
   "metadata": {},
   "outputs": [
    {
     "name": "stdout",
     "output_type": "stream",
     "text": [
      "Wall time: 6.51 s\n"
     ]
    },
    {
     "data": {
      "text/plain": [
       "GridSearchCV(estimator=SVC(),\n",
       "             param_grid={'C': [0.1, 0.2, 0.4, 0.8, 1.6, 3.2, 6.4, 12.8, 25.6,\n",
       "                               51.2]})"
      ]
     },
     "execution_count": 45,
     "metadata": {},
     "output_type": "execute_result"
    }
   ],
   "source": [
    "%%time\n",
    "g = GridSearchCV(\n",
    "    estimator=c,\n",
    "    param_grid={\n",
    "        \"C\": [0.1 * 2 ** j for j in range(10)],\n",
    "    }\n",
    ")\n",
    "g.fit(X_tr, y_tr);"
   ]
  },
  {
   "cell_type": "code",
   "execution_count": 46,
   "metadata": {},
   "outputs": [],
   "source": [
    "resultats[g] = g.best_score_"
   ]
  },
  {
   "cell_type": "markdown",
   "metadata": {},
   "source": [
    "## Conclusion"
   ]
  },
  {
   "cell_type": "code",
   "execution_count": 47,
   "metadata": {},
   "outputs": [
    {
     "data": {
      "text/html": [
       "<pre style=\"white-space:pre;overflow-x:auto;line-height:normal;font-family:Menlo,'DejaVu Sans Mono',consolas,'Courier New',monospace\">┏━━━━━━━━━━━━━━━━━━━━┳━━━━━━━━━━━━━━━━━━━━━━━━┳━━━━━━━━━━━━━━━━━━━━━━━━━━━━━━━━━━━━━━━━━━━━━┓\n",
       "┃<span style=\"font-weight: bold\"> Score              </span>┃<span style=\"font-weight: bold\"> Modele                 </span>┃<span style=\"font-weight: bold\"> Meilleur choix de Paramètres                </span>┃\n",
       "┡━━━━━━━━━━━━━━━━━━━━╇━━━━━━━━━━━━━━━━━━━━━━━━╇━━━━━━━━━━━━━━━━━━━━━━━━━━━━━━━━━━━━━━━━━━━━━┩\n",
       "│ 0.8337216026435357 │ DecisionTreeClassifier │                                             │\n",
       "│ 0.8396585433016659 │ GaussianNB             │                                             │\n",
       "│ 0.9717940245077792 │ RandomForestClassifier │ {'n_estimators': 100}                       │\n",
       "│ 0.975500481894534  │ MLPClassifier          │ {'hidden_layer_sizes': (200,), 'max_iter':  │\n",
       "│                    │                        │ 1000}                                       │\n",
       "│ 0.9821781632934048 │ KNeighborsClassifier   │ {'n_neighbors': 3}                          │\n",
       "│ 0.9873771168938454 │ SVC                    │ {'C': 6.4}                                  │\n",
       "└────────────────────┴────────────────────────┴─────────────────────────────────────────────┘\n",
       "</pre>\n"
      ],
      "text/plain": [
       "┏━━━━━━━━━━━━━━━━━━━━┳━━━━━━━━━━━━━━━━━━━━━━━━┳━━━━━━━━━━━━━━━━━━━━━━━━━━━━━━━━━━━━━━━━━━━━━┓\n",
       "┃\u001b[1m \u001b[0m\u001b[1mScore             \u001b[0m\u001b[1m \u001b[0m┃\u001b[1m \u001b[0m\u001b[1mModele                \u001b[0m\u001b[1m \u001b[0m┃\u001b[1m \u001b[0m\u001b[1mMeilleur choix de Paramètres               \u001b[0m\u001b[1m \u001b[0m┃\n",
       "┡━━━━━━━━━━━━━━━━━━━━╇━━━━━━━━━━━━━━━━━━━━━━━━╇━━━━━━━━━━━━━━━━━━━━━━━━━━━━━━━━━━━━━━━━━━━━━┩\n",
       "│ 0.8337216026435357 │ DecisionTreeClassifier │                                             │\n",
       "│ 0.8396585433016659 │ GaussianNB             │                                             │\n",
       "│ 0.9717940245077792 │ RandomForestClassifier │ {'n_estimators': 100}                       │\n",
       "│ 0.975500481894534  │ MLPClassifier          │ {'hidden_layer_sizes': (200,), 'max_iter':  │\n",
       "│                    │                        │ 1000}                                       │\n",
       "│ 0.9821781632934048 │ KNeighborsClassifier   │ {'n_neighbors': 3}                          │\n",
       "│ 0.9873771168938454 │ SVC                    │ {'C': 6.4}                                  │\n",
       "└────────────────────┴────────────────────────┴─────────────────────────────────────────────┘\n"
      ]
     },
     "metadata": {},
     "output_type": "display_data"
    }
   ],
   "source": [
    "resume = Table()\n",
    "resume.add_column(\"Score\")\n",
    "resume.add_column(\"Modele\")\n",
    "resume.add_column(\"Meilleur choix de Paramètres\")\n",
    "for score, modele in sorted(\n",
    "    [(score, modele) for modele, score in resultats.items()], \n",
    "    key=lambda x: x[0]\n",
    "):\n",
    "    try:\n",
    "        mod_str = str(modele.best_estimator_)\n",
    "        resume.add_row(str(score), mod_str[:mod_str.find(\"(\")], str(modele.best_params_))\n",
    "    except AttributeError:\n",
    "        mod_str = str(modele)\n",
    "        resume.add_row(str(score), mod_str[:mod_str.find(\"(\")], \"\")\n",
    "print(resume)"
   ]
  },
  {
   "cell_type": "code",
   "execution_count": 48,
   "metadata": {},
   "outputs": [],
   "source": [
    "meilleur_score = max(resultats.values())\n",
    "meilleur_modele, *_ = [\n",
    "    modele for modele, score in resultats.items() if score == meilleur_score\n",
    "]    "
   ]
  },
  {
   "cell_type": "code",
   "execution_count": 49,
   "metadata": {},
   "outputs": [
    {
     "data": {
      "text/html": [
       "<pre style=\"white-space:pre;overflow-x:auto;line-height:normal;font-family:Menlo,'DejaVu Sans Mono',consolas,'Courier New',monospace\">Meilleur modèle:  <span style=\"color: #800080; text-decoration-color: #800080; font-weight: bold\">SVC</span><span style=\"font-weight: bold\">(</span><span style=\"color: #808000; text-decoration-color: #808000\">C</span>=<span style=\"color: #008080; text-decoration-color: #008080; font-weight: bold\">6.4</span><span style=\"font-weight: bold\">)</span>\n",
       "</pre>\n"
      ],
      "text/plain": [
       "Meilleur modèle:  \u001b[1;35mSVC\u001b[0m\u001b[1m(\u001b[0m\u001b[33mC\u001b[0m=\u001b[1;36m6\u001b[0m\u001b[1;36m.4\u001b[0m\u001b[1m)\u001b[0m\n"
      ]
     },
     "metadata": {},
     "output_type": "display_data"
    },
    {
     "data": {
      "text/html": [
       "<pre style=\"white-space:pre;overflow-x:auto;line-height:normal;font-family:Menlo,'DejaVu Sans Mono',consolas,'Courier New',monospace\">De paramètres: \n",
       "<span style=\"font-weight: bold\">{</span><span style=\"color: #008000; text-decoration-color: #008000\">'C'</span>: <span style=\"color: #008080; text-decoration-color: #008080; font-weight: bold\">6.4</span><span style=\"font-weight: bold\">}</span>\n",
       "</pre>\n"
      ],
      "text/plain": [
       "De paramètres: \n",
       "\u001b[1m{\u001b[0m\u001b[32m'C'\u001b[0m: \u001b[1;36m6.4\u001b[0m\u001b[1m}\u001b[0m\n"
      ]
     },
     "metadata": {},
     "output_type": "display_data"
    },
    {
     "data": {
      "text/html": [
       "<pre style=\"white-space:pre;overflow-x:auto;line-height:normal;font-family:Menlo,'DejaVu Sans Mono',consolas,'Courier New',monospace\">Score de crossvalidation:  <span style=\"color: #008080; text-decoration-color: #008080; font-weight: bold\">0.9873771168938454</span>\n",
       "</pre>\n"
      ],
      "text/plain": [
       "Score de crossvalidation:  \u001b[1;36m0.9873771168938454\u001b[0m\n"
      ]
     },
     "metadata": {},
     "output_type": "display_data"
    }
   ],
   "source": [
    "print(\"Meilleur modèle: \", meilleur_modele.best_estimator_)\n",
    "print(\"De paramètres: \", meilleur_modele.best_params_)\n",
    "print(\"Score de crossvalidation: \", meilleur_modele.best_score_)"
   ]
  },
  {
   "cell_type": "code",
   "execution_count": 50,
   "metadata": {},
   "outputs": [
    {
     "data": {
      "text/plain": [
       "1.0"
      ]
     },
     "execution_count": 50,
     "metadata": {},
     "output_type": "execute_result"
    }
   ],
   "source": [
    "meilleur_modele.fit(X_tr, y_tr)\n",
    "meilleur_modele.score(X_tr, y_tr)"
   ]
  },
  {
   "cell_type": "code",
   "execution_count": 51,
   "metadata": {},
   "outputs": [
    {
     "data": {
      "text/plain": [
       "0.9955555555555555"
      ]
     },
     "execution_count": 51,
     "metadata": {},
     "output_type": "execute_result"
    }
   ],
   "source": [
    "meilleur_modele.score(X_te, y_te)"
   ]
  },
  {
   "cell_type": "code",
   "execution_count": 52,
   "metadata": {},
   "outputs": [
    {
     "data": {
      "text/plain": [
       "{'C': 6.4}"
      ]
     },
     "execution_count": 52,
     "metadata": {},
     "output_type": "execute_result"
    }
   ],
   "source": [
    "meilleur_modele.best_params_"
   ]
  },
  {
   "cell_type": "code",
   "execution_count": 53,
   "metadata": {},
   "outputs": [
    {
     "data": {
      "text/plain": [
       "array([[119,   0,   0,   0,   0,   0,   0,   0,   0,   0],\n",
       "       [  0, 142,   0,   0,   0,   0,   0,   0,   0,   0],\n",
       "       [  0,   0, 140,   0,   0,   0,   0,   0,   0,   0],\n",
       "       [  0,   0,   0, 134,   0,   0,   0,   0,   0,   0],\n",
       "       [  0,   0,   0,   0, 135,   0,   0,   0,   0,   0],\n",
       "       [  0,   0,   0,   0,   0, 140,   0,   0,   0,   0],\n",
       "       [  0,   0,   0,   0,   0,   0, 126,   0,   0,   0],\n",
       "       [  0,   0,   0,   0,   0,   0,   0, 141,   0,   0],\n",
       "       [  0,   0,   0,   0,   0,   0,   0,   0, 134,   0],\n",
       "       [  0,   0,   0,   0,   0,   0,   0,   0,   0, 136]], dtype=int64)"
      ]
     },
     "execution_count": 53,
     "metadata": {},
     "output_type": "execute_result"
    }
   ],
   "source": [
    "cm_tr = confusion_matrix(y_tr, meilleur_modele.predict(X_tr))\n",
    "cm_tr"
   ]
  },
  {
   "cell_type": "code",
   "execution_count": 54,
   "metadata": {},
   "outputs": [
    {
     "data": {
      "image/png": "[encoded data removed]",
      "text/plain": [
       "<Figure size 864x576 with 2 Axes>"
      ]
     },
     "metadata": {
      "needs_background": "light"
     },
     "output_type": "display_data"
    }
   ],
   "source": [
    "fig, rep = plt.subplots(figsize=(12, 8))\n",
    "ConfusionMatrixDisplay(cm_tr, display_labels=meilleur_modele.classes_).plot(ax=rep);\n",
    "fig.suptitle(\"Matrice de confusion pour les données d'entrainement\", fontsize=20);"
   ]
  },
  {
   "cell_type": "code",
   "execution_count": 55,
   "metadata": {},
   "outputs": [
    {
     "data": {
      "text/plain": [
       "array([[59,  0,  0,  0,  0,  0,  0,  0,  0,  0],\n",
       "       [ 0, 40,  0,  0,  0,  0,  0,  0,  0,  0],\n",
       "       [ 0,  0, 37,  0,  0,  0,  0,  0,  0,  0],\n",
       "       [ 0,  0,  0, 48,  0,  1,  0,  0,  0,  0],\n",
       "       [ 0,  0,  0,  0, 46,  0,  0,  0,  0,  0],\n",
       "       [ 0,  0,  0,  0,  0, 42,  0,  0,  0,  0],\n",
       "       [ 0,  0,  0,  0,  0,  0, 55,  0,  0,  0],\n",
       "       [ 0,  0,  0,  0,  0,  0,  0, 38,  0,  0],\n",
       "       [ 0,  0,  0,  0,  0,  0,  0,  0, 40,  0],\n",
       "       [ 0,  0,  0,  1,  0,  0,  0,  0,  0, 43]], dtype=int64)"
      ]
     },
     "execution_count": 55,
     "metadata": {},
     "output_type": "execute_result"
    }
   ],
   "source": [
    "cm_te = confusion_matrix(y_te, meilleur_modele.predict(X_te))\n",
    "cm_te"
   ]
  },
  {
   "cell_type": "code",
   "execution_count": 56,
   "metadata": {},
   "outputs": [
    {
     "data": {
      "image/png": "[encoded data removed]",
      "text/plain": [
       "<Figure size 864x576 with 2 Axes>"
      ]
     },
     "metadata": {
      "needs_background": "light"
     },
     "output_type": "display_data"
    }
   ],
   "source": [
    "fig, rep = plt.subplots(figsize=(12, 8))\n",
    "ConfusionMatrixDisplay(cm_te, display_labels=meilleur_modele.classes_).plot(ax=rep)\n",
    "fig.suptitle(\"Matrice de confusion pour les données de test\", fontsize=20);"
   ]
  },
  {
   "cell_type": "code",
   "execution_count": null,
   "metadata": {},
   "outputs": [],
   "source": []
  }
 ],
 "metadata": {
  "interpreter": {
   "hash": "1bbd787d3b252b5bc24e3def9daa38c7ced62b15e0ee72365505102b332fc7ee"
  },
  "kernelspec": {
   "display_name": "Python 3.9.7 64-bit",
   "name": "python3"
  },
  "language_info": {
   "codemirror_mode": {
    "name": "ipython",
    "version": 3
   },
   "file_extension": ".py",
   "mimetype": "text/x-python",
   "name": "python",
   "nbconvert_exporter": "python",
   "pygments_lexer": "ipython3",
   "version": "3.9.7"
  },
  "orig_nbformat": 4
 },
 "nbformat": 4,
 "nbformat_minor": 2
}
