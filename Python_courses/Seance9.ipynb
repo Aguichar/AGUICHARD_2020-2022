{
 "cells": [
  {
   "cell_type": "markdown",
   "metadata": {},
   "source": [
    "# Séance 9 : Objectifs\n",
    "\n",
    "- Sur un exemple élémentaires regarder les transformations à effectuer pour déployer un modèle.\n",
    "- Serialisation automatique vers des formats json, yaml. (librairie `pyserde`)\n",
    "- Développement d'une application en ligne de commande (CLI). (Librairie `typer`)\n",
    "- Application à l'entrainement de digits.\n",
    "- Stockage des données d'entrainement.\n",
    "- Stockage d'un modèle entrainé. (via `pickle`)."
   ]
  },
  {
   "cell_type": "code",
   "execution_count": 1,
   "metadata": {},
   "outputs": [],
   "source": [
    "from sklearn.datasets import (\n",
    "    fetch_lfw_people,\n",
    ")"
   ]
  },
  {
   "cell_type": "code",
   "execution_count": null,
   "metadata": {},
   "outputs": [],
   "source": [
    "from sklearn.datasets import(\n",
    ")"
   ]
  }
 ],
 "metadata": {
  "interpreter": {
   "hash": "1bbd787d3b252b5bc24e3def9daa38c7ced62b15e0ee72365505102b332fc7ee"
  },
  "kernelspec": {
   "display_name": "Python 3.9.7 64-bit",
   "name": "python3"
  },
  "language_info": {
   "codemirror_mode": {
    "name": "ipython",
    "version": 3
   },
   "file_extension": ".py",
   "mimetype": "text/x-python",
   "name": "python",
   "nbconvert_exporter": "python",
   "pygments_lexer": "ipython3",
   "version": "3.9.7"
  },
  "orig_nbformat": 4
 },
 "nbformat": 4,
 "nbformat_minor": 2
}
